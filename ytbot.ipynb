{
  "nbformat": 4,
  "nbformat_minor": 0,
  "metadata": {
    "colab": {
      "provenance": [],
      "authorship_tag": "ABX9TyPWXeBgGMbH2jd786TU06GN",
      "include_colab_link": true
    },
    "kernelspec": {
      "name": "python3",
      "display_name": "Python 3"
    },
    "language_info": {
      "name": "python"
    }
  },
  "cells": [
    {
      "cell_type": "markdown",
      "metadata": {
        "id": "view-in-github",
        "colab_type": "text"
      },
      "source": [
        "<a href=\"https://colab.research.google.com/github/Srijato2005/repo-exercise/blob/main/ytbot.ipynb\" target=\"_parent\"><img src=\"https://colab.research.google.com/assets/colab-badge.svg\" alt=\"Open In Colab\"/></a>"
      ]
    },
    {
      "cell_type": "code",
      "execution_count": 46,
      "metadata": {
        "id": "7CaTn-oKTOZz"
      },
      "outputs": [],
      "source": [
        "import os\n",
        "from google.colab import userdata\n",
        "\n",
        "os.environ['GOOGLE_API_KEY'] = userdata.get('GOOGLE_API_KEY')"
      ]
    },
    {
      "cell_type": "code",
      "source": [
        "!pip install -q youtube-transcript-api   langchain_community  langchain_google_genai"
      ],
      "metadata": {
        "id": "sc9PPLT3T2lK"
      },
      "execution_count": 66,
      "outputs": []
    },
    {
      "cell_type": "code",
      "source": [
        "from youtube_transcript_api import YouTubeTranscriptApi,TranscriptsDisabled\n",
        "from langchain_text_splitters import RecursiveCharacterTextSplitter\n",
        "from langchain_google_genai import GoogleGenerativeAIEmbeddings, ChatGoogleGenerativeAI\n",
        "from langchain_community.vectorstores import FAISS\n",
        "from langchain_core.prompts import PromptTemplate\n",
        "\n",
        "\n"
      ],
      "metadata": {
        "id": "84SWk_PzUSyx"
      },
      "execution_count": 67,
      "outputs": []
    },
    {
      "cell_type": "markdown",
      "source": [
        "INDEXING\n"
      ],
      "metadata": {
        "id": "W-Kn3DXSWNw8"
      }
    },
    {
      "cell_type": "code",
      "source": [
        "video_id=\"FWAdfuPpLOc\"\n",
        "try:\n",
        "  transcript_list= YouTubeTranscriptApi.get_transcript(video_id,languages=[\"en\"])\n",
        "  transcipt= \" \".join(chunk[\"text\"] for chunk in transcript_list)\n",
        "  print(transcipt)\n",
        "except TranscriptsDisabled:\n",
        "  print(\"Transcript is disabled for this video\")"
      ],
      "metadata": {
        "colab": {
          "base_uri": "https://localhost:8080/"
        },
        "id": "rNY-dnFKWRC8",
        "outputId": "78e321f3-57fb-4ab3-8849-7a22438d597f"
      },
      "execution_count": 49,
      "outputs": [
        {
          "output_type": "stream",
          "name": "stdout",
          "text": [
            "Who's faster? A cheetah or one of\n",
            "the fastest cars in the world? Can a man beat a bear in\n",
            "a fight? Can a tiger beat the world-record\n",
            "high jumper? We're gonna answer all of these\n",
            "and more— starting with the strongest man\n",
            "in the world. And he's about to test his strength\n",
            "against a 500-pound lion in a game of\n",
            "tug-of-war. Any last words? It's go time. 3, 2, 1… Go! Alright and\n",
            "we’re off. Oh my gosh!\n",
            "Look at his mouth! Look at that\n",
            "brute strength. Oh my gosh. The lion’s literally holding\n",
            "the strongest man in the world back right now! Wait, what is he doing? Did that lion just\n",
            "turn around? It looks like he's trying to\n",
            "wear Brian out. Here's Brian pulling\n",
            "a literal plane. But right now, he cannot get\n",
            "this lion to budge. He’s starting\n",
            "to struggle! Brian's actually\n",
            "doing this! Oh, ok. Ok. You got like\n",
            "3 feet left. You're almost\n",
            "there! Brian, you’re almost\n",
            "there! Brian won! Brian won, congrats! Yes! Brian just won! Did you have fun? Oh, ok.\n",
            "I just— I won't talk to him.\n",
            "That's fine. But that's just the first of\n",
            "seven challenges that will test man\n",
            "versus animal. Up next, we have the highest\n",
            "vertical leaper on the planet. No joke.\n",
            "That's his Guinness World Record. Of all 8 billion humans alive,\n",
            "none can jump higher than him. And he's gonna be going against this\n",
            "tiger to see who can jump higher… man or animal. Team Human.\n",
            "Let’s go. Look at that majestic beast. Do you actually think you\n",
            "can out-jump that? I’m not gonna lie. If she jumps 13,\n",
            "I’m jumping 13. Oh, look how she's looking at him.\n",
            "She's scoping you out. Is that a threat? She doesn't speak\n",
            "English. I say we get into it. They’re gonna use this meat\n",
            "to lure her and see if they can get her\n",
            "to jump. - Let me see what you got, Luna.\n",
            "- Oh, she wants it. Here it is. Here comes\n",
            "the jump. How high will the tiger\n",
            "jump? Oh my gosh! Now, if you can somehow jump\n",
            "higher than the tiger… I want it to be because you beat\n",
            "your own world record. So I'm not putting this\n",
            "at 10 ft, 9 in. I'm going to put it\n",
            "at 12 ft, 3 in. Exactly 1 inch higher than\n",
            "your Guinness World Record. If he manages to touch this,\n",
            "not only will he decimate the tiger, but he will set\n",
            "a new world record. I mean, I think I got it.\n",
            "12' 3\"? - Yeah.\n",
            "- I don't see why not. I’m gonna be honest,\n",
            "I think Darius is lying. I'm not gonna lie,\n",
            "I dang near think I'm lying. This does not seem\n",
            "humanly possible. For the world record attempt.\n",
            "Are you ready? Let’s get it. Let's see if you can set\n",
            "that world record! Luna, this is for you. Can he do it? Oh my gosh!\n",
            "Whoa, he crushed it! That was crazy! Luna, what are you gonna\n",
            "say to that? Bro, you just jumped higher than\n",
            "anyone in history. And you seem chill. Ah, I feel like\n",
            "I can go higher. - I'm not gonna lie to you.\n",
            "- Oh my gosh, this guy. I feel like I could go higher. You just set a world record.\n",
            "He's like, \"Oh, I could go higher.\" Brian beat a lion.\n",
            "Darius beat a tiger. Animals need to\n",
            "start winning. Team Human.\n",
            "Let's go. I think Team Human is going to have\n",
            "a much harder time with this next\n",
            "competition. We are now in a bull arena\n",
            "with Bubba. Hello. - Bubba is a bull rider.\n",
            "- Yes, sir. We are gonna release 3 bulls\n",
            "in this arena. 3 bulls? You need to carry as many bags of\n",
            "money as you can all the way to the other side\n",
            "of the arena, with 3 bulls chasing you\n",
            "in the process. Every dollar you get in the bucket\n",
            "in the next 3 minutes, you keep. - I'm ready, Jimmy.\n",
            "- Good luck. Release the bulls! Here they come! Bubba, please\n",
            "don't die. They're through the gate,\n",
            "and they're coming right at him. Ok. Oh, they're\n",
            "chasin’ him! Oh! Oh, they went right\n",
            "past him. Take the money, Bubba!\n",
            "Keep going! Go! He lost his hat. He's already secured\n",
            "$10,000… Bubba!\n",
            "Behind you! …but how long can he stay clear\n",
            "of the bulls? Alright, here we go. He just got 2 more bags. - They're right behind you!\n",
            "- Run, Bubba, run! Oh my gosh. I'd be terrified to be anywhere\n",
            "near those bulls. Oh! They're coming right\n",
            "towards us. Wait, no.\n",
            "Go after him. Not me! Meanwhile, Bubba is somehow laughing while 3 bulls are barreling\n",
            "towards him. This guy's way too chill to be running around with 3 bulls\n",
            "that weigh 1,500 lbs each. ‘Bout to touch him\n",
            "right on the head. He's adopting a strategy of\n",
            "scaring the bulls away? This is hard! Note to self: don't do these things\n",
            "with professionals. He literally breezed through\n",
            "this challenge. - Woah, he did it!\n",
            "- There you go. You won! - Congrats on winning $50,000!\n",
            "- Thank you. What're you gonna spend\n",
            "the money on? Probably\n",
            "a new truck. Why am I not\n",
            "surprised? But what will surprise you is who\n",
            "wins the race later in this video. But this next challenge has\n",
            "2 creatures built to shatter every bone\n",
            "in your body. Alright, Nick. Come through\n",
            "these doors. I'm terrified. This is Nick, who you might remember from his race\n",
            "against the fastest man on the planet where, even with a mile headstart,\n",
            "he still lost to Noah Lyles. And today, I'm gonna be giving him\n",
            "a second chance at something\n",
            "a little more deadly. In front of you. Just— I can't, bro.\n",
            "I can't touch, bro. - Trust me.\n",
            "- No, no. In front of you… - Bro…\n",
            "- Bro, bro— When you see this footage, you're\n",
            "gonna realize how dumb you're being. - What is it, bro? Ok?\n",
            "- It's literally $100,000. Ok. He lost against Noah Lyles,\n",
            "so he's not— he doesn't know what large sums of\n",
            "money feels like. I did. To win this\n",
            "$100,000, you must choose to survive 1 minute\n",
            "in the ring with either— Take off your\n",
            "blindfold. Ramy, a 500-lb professional\n",
            "sumo wrestler… Why are you doing—\n",
            "Why is he doing the… Or… Turn around. A minute in the ring\n",
            "with this bear. Oh my God—\n",
            "Bruh, yo! Ok. Why is he there? And if you think that\n",
            "this bear is harmless… don't. Because he can literally tear\n",
            "an average human to shreds. Thing’s big, bro. Tom, how you doing? He's— Ok, don't look at\n",
            "him too long. It's time for a decision.\n",
            "$100,000 on the line. You want to wrestle a sumo wrestler\n",
            "or a grizzly bear? Oh, he's coming towards you.\n",
            "He's excited. It's mobile now. Ok, I'm not going back to the bear.\n",
            "He's up. Jesus. Alright.\n",
            "Let's go with you, bro. You're picking him? I mean, I have to. What do you mean?\n",
            "It's a big grizzly bear. You have your life insurance\n",
            "with you? I don't. And so Nick doesn't\n",
            "literally die, I brought an actual sumo coach\n",
            "to suit him up for the match. See if you can bend your knees.\n",
            "Slide your feet. Are you ready? Step in the ring! Come on. You're good.\n",
            "Come here. Come to the middle. In order to win this\n",
            "challenge Nick, you'll have to wrestle Ramy\n",
            "for 1 minute without crossing over\n",
            "the red circle. If you get pushed outside of\n",
            "the circle before the minute is over, you will once again\n",
            "lose everything. Touch your fist to the ground\n",
            "to begin the match. Are you mentally stable? You're in too deep now, Nick.\n",
            "Let's do this. Oh my God… Did you hear that? Bro, he's making sounds\n",
            "worse than Tom! - Nick, touch the ground.\n",
            "- Wait up! Wait up. Touch the ground, Nick! Go! Ok, alright.\n",
            "Ok, ok. Alright, the timer's off. - Fight back, Nick.\n",
            "- Wait, one second. Nick! Fight back, Nick! Fight back! Go for his belt, Nick! Nick! He’s suffocating me! He's toying with him.\n",
            "It's nothing but a game. Nick, you made it\n",
            "15 seconds. Are you just hugging him?\n",
            "What're you doing? 20 seconds! Nick, you're almost\n",
            "halfway done. Nick! No!\n",
            "Fight back, Nick. Nick, fight back!\n",
            "Fight back, Nick! 20 seconds! Nick! You’ve almost\n",
            "won the money, Nick! Oh my God, he's toying with him.\n",
            "It's a photo finish. 5 seconds! 3, 2, 1… He went over\n",
            "the line. Are you good? You literally grabbed the side and\n",
            "reached out before the minute ended. Bro, this guy's an animal\n",
            "looking like a human. You lost to the fastest man\n",
            "on earth. You've now lost to the best\n",
            "sumo wrestler on Earth. I feel bad.\n",
            "So… I'm gonna give him $10,000\n",
            "for winning! Loser. Whoa! That's crazy. - Loser. Loser.\n",
            "- I want to see you outside. I say we jump into what might\n",
            "literally be the biggest challenge\n",
            "of this entire video. And to lighten things up, I decided\n",
            "to bring out comedian Trevor Wallace. Trevor, take off\n",
            "your blindfold! Are we gonna address\n",
            "the elephant in the room? This elephant is the best painting\n",
            "elephant on the planet. Which is exactly why,\n",
            "for our next challenge, we'll be doing\n",
            "a paint-off. Both of you will have 10 minutes to\n",
            "paint whatever creation you want. Whichever one of you draws\n",
            "a better painting will have your masterpiece hung up in\n",
            "an actual art museum. May the best— May the best elephant win. Hey, stop eating grass! If you don't want to mow your lawn,\n",
            "just buy an elephant. Oh. She just smacked me\n",
            "with her ear. She's trying to paint.\n",
            "Here, give us a second. She needs a head start. Go ahead and go to your painting.\n",
            "She can't wait to start. 3, 2, 1… Start the timer! This is the first time ever\n",
            "on this channel that we've had\n",
            "an elephant paint, so we're gonna hide the artwork\n",
            "until the end. Paint?\n",
            "Oh, not me. Jimmy, what do you want me\n",
            "to paint? A giant school. I got you. Ok, so we're going to start with\n",
            "a nice yellow, copper tone. That's the color you're\n",
            "going with? Dude, what colors\n",
            "are schools? Oh. There we go. Oh, she dropped it. We'll give her some\n",
            "motivation. Orange. How come the elephant gets fed,\n",
            "and you guys aren't feeding me? No Feastables,\n",
            "no nothing? Can we get some\n",
            "Feastables? Less talking, more painting.\n",
            "Eat this. I hope it’s not chocolate.\n",
            "I'm allergic. Huh? Alright. 5 minutes\n",
            "left, Trevor. Yes, yes! Can I get my\n",
            "Bob Ross wig? He's locking in. Bob Floss right here. Let's clutch up.\n",
            "Let's go. We can't lose to\n",
            "this guy. Oh, yes!\n",
            "Good girl! - How much time do I have?\n",
            "- Uh, 4 minutes. Hey, time's ticking,\n",
            "Bob Ross. Yeah. Right now, that is\n",
            "a yellow blob. No, no.\n",
            "It's a G-Wagon. Look at that! Alright, go!\n",
            "Paint! Oh! Not me.\n",
            "Paint that thing. And the road,\n",
            "the road. - You gotta get a sun going.\n",
            "- Here, gimme yellow. Whabam!\n",
            "Juilliard! We got 2 mins left so we'll clock in.\n",
            "Let's lock in. You're doing great. She did not like\n",
            "that paintbrush. Trevor, we’re running\n",
            "out of time. - Dude, this is so bad.\n",
            "- Believe in your art. These were supposed to be bricks,\n",
            "not windows. I’m gonna help you out.\n",
            "We're running out of time. I feel like a firefighter with\n",
            "the hose. Let's go. One minute left!\n",
            "We might actually win. You might actually lose\n",
            "to an elephant. I feel like I'm painting at\n",
            "a funeral. Now, this is her signature move\n",
            "that she puts on all her artwork. - Three…\n",
            "- Just keep going. - Two…\n",
            "- Oh! That was a mistake. That was a fumble. One! Time is up! No! He didn’t finish! But before we judge these\n",
            "works of art… Coming up, we have\n",
            "a literal cheetah racing one of the fastest cars\n",
            "in the world. But for now, I brought in\n",
            "a professional with over 30 years of experience\n",
            "to judge these paintings. And now, on\n",
            "a scale 1 to 10… One being bad.\n",
            "Ten being good— - Two.\n",
            "- Two? - Two.\n",
            "- Ok. It feels a little bit\n",
            "adolescent, so maybe someone's getting in touch\n",
            "with their inner child. Woah, ho-ho! Talk about the art,\n",
            "not the artist! Hey! No influencing the judge. And now to reveal the masterpiece of\n",
            "the world's best painting elephant… Are we really gonna grade this?\n",
            "This looks like a clown threw up. She painted this\n",
            "on her own. What are your\n",
            "thoughts on it? I feel a lot of joy in\n",
            "this particular painting, but I see that they're being\n",
            "honest to who they are. You can't separate the art\n",
            "from the artist. What do you rate this art piece\n",
            "out of 10? I would give her\n",
            "an 8 out of 10. Whoa! Trevor, you lost to\n",
            "an elephant. Whatever, man. Your competitor is literally hitting\n",
            "a Fortnite emote. How does that\n",
            "make you feel? Alright, you're good.\n",
            "Rest… Go back to\n",
            "Rainforest Cafe. And as promised, here's Isla’s painting hanging\n",
            "in a real art museum. Exquisite. I wonder if any of\n",
            "these people realize this was painted by\n",
            "an elephant. Anyway, for this\n",
            "next challenge, we have the most advanced soldiers\n",
            "on the planet. How long would it take you guys\n",
            "to kill me? - 30 seconds.\n",
            "- They're very scary men. And we're gonna see\n",
            "how long they can hide in this massive junkyard\n",
            "from Odin, one of the best search dogs\n",
            "on the planet. How long do you think\n",
            "they’ll last? Probably about 5 minutes. And if any of you can evade\n",
            "these dogs until morning, you'll split $50,000 - Yeah!\n",
            "- Let's go. Alright. 10 minutes to hide. 3, 2, 1… Go!\n",
            "Have fun! While these men spent half of\n",
            "their lives evading enemy capture, these dogs have been trained since\n",
            "birth to seek out humans. So I will be shocked if these guys\n",
            "can survive until morning. Get over to our\n",
            "hiding spot here. I just gotta evade these\n",
            "dogs the longest. These guys are running around\n",
            "like a bunch of fools. I'm not gonna sweat. Rub up on some of these vehicles\n",
            "just to get my scent. They’re all probably doing\n",
            "zigzags and rubbing up against as many\n",
            "vehicles as they can.  While Johnny created false flags\n",
            "by rubbing up against cars. Carlos— I found some water! decided to mask\n",
            "his scent. Here we go! He literally dunked himself in\n",
            "the river hoping to throw them off. Now I’m going back to\n",
            "my hiding spot. Most of these guys had\n",
            "the same strategy. Create a diversion for the dog,\n",
            "then hide in a car. Gotta find the right spot. While one of them had\n",
            "a different idea. Hey, what's up? So I'm sitting up\n",
            "in a tree about 50 ft up. And the only tree in-play. Here's the whole yard where\n",
            "everybody's hiding. I just pray that God will hide\n",
            "my scent. Hopefully they\n",
            "don’t find me. The 10 minute timer is up!\n",
            "We're coming to find you. Here they go.\n",
            "You can hear the dog. 3, 2, 1… Release the hounds! - And they were off. Let's go.\n",
            "- Alright, we're good? Yep. Watch the dog\n",
            "and his behavior. You'll see it when he\n",
            "catches that odor. You’ll see his nose\n",
            "goes up. How can dogs smell\n",
            "this good? It's called their olfactors. The longer the snout, the more\n",
            "olfactors that these dogs have. It’s nice and windy up here so\n",
            "they shouldn’t be able to smell me. I know it’s a win for me because\n",
            "I’m not near the ground. Remember, this is\n",
            "a very large area. So the dog has to systematically\n",
            "decipher what odor is a person. And what's just somebody who\n",
            "walked through here earlier. Alert! Alright. Standby. Sage might’ve found\n",
            "something. Oh, the doors are\n",
            "unlocked. Yo! - They got me.\n",
            "- You're the first one found. Oh my God. The dog’s barking over there,\n",
            "so they must’ve found somebody. Yo! That's crazy. Sage might’ve scanned\n",
            "4— 500 cars. This is the only car that Sage\n",
            "barked at, and he was in it! If it makes you\n",
            "feel better, everyone who gets found is getting\n",
            "a Lenovo Legion Pro 7i powered by Intel Core\n",
            "ultra 9. These laptops are beasts, but we still got 4 more people\n",
            "we need to find. Let's keep going. On our Lenovo Legion laptop\n",
            "powered by Intel, we have a map of\n",
            "the junkyard. We're gonna search\n",
            "over there. Go over to the bus,\n",
            "see if we find someone. - If not, rendezvous up.\n",
            "- Yep. Ok, we got\n",
            "a game plan. They’re coming my way,\n",
            "so I gotta kill the light. Oh, he's on the hunt. I’m gonna call an alert\n",
            "on this van! Oh, wait. Sage is barking\n",
            "at this car. Sage, is it this one? Step back. Alright, is anyone\n",
            "inside— - Oh!\n",
            "- You got me. You could’ve just\n",
            "opened the door. Two down.\n",
            "Sage is crushing! I'm sorry, but you've lost\n",
            "$50,000. But don't worry, you'll be able to overcome any\n",
            "obstacle with this brand new laptop. That's the power of Lenovo\n",
            "with Intel inside. Nice. Thank you. Alright. Let's keep\n",
            "hunting, Byron. Alright, #2 has been found,\n",
            "which was close to me, which could throw\n",
            "the dog off. I mean he may not find me because\n",
            "he just found somebody close to me. The dogs came super close\n",
            "to finding the marine. Becky and Sage just\n",
            "walked by. Oh my gosh, they walked\n",
            "beside the car. Didn’t find him.\n",
            "Holy cow! But then something completely\n",
            "unexpected happened. I don't know how they did it, but somehow the dogs could not find\n",
            "these guys. One of the guys threw\n",
            "a Redbull can in here. What we have here is\n",
            "a false find. Somebody came here\n",
            "and has left. Their trap worked. Thank you, Lenovo and Intel,\n",
            "for giving us these computers. And if you guys are interested in\n",
            "buying one for yourselves, just go to this website right here\n",
            "or click the link in the description. Even after searching for hours,\n",
            "it was like the soldiers disappeared. The dogs have been looking all night,\n",
            "and now the sun is coming up. We can't find these\n",
            "people. It’s 5:30 in\n",
            "the morning. It's obviously getting\n",
            "lighter out. There's about 3 of us\n",
            "still out here. But then, mere moments before\n",
            "we ended the challenge… Alright, they’re really close\n",
            "right now. Is he in there? Is there anybody\n",
            "in this truck? - Someone’s in the back!\n",
            "- We got somebody! Got me. You might be\n",
            "a little hungry. I actually got you a Feastables\n",
            "Peanut Butter Cup. Let me know what you think. Oh yeah. That's a 10\n",
            "right there. Come on. And with the time\n",
            "finally up, the 2 winners emerged from\n",
            "their hiding spots. It's a good one. Oh, that was\n",
            "a long night. Congrats to them on\n",
            "splitting $50,000. And now, the moment you've\n",
            "all been waiting for. After the most insane\n",
            "man vs. animal competitions, it all comes down to\n",
            "this final challenge. This cheetah is gonna race\n",
            "the fastest car on earth. Let's see who wins—\n",
            "Oh, cheetah! Alright, I'll get it\n",
            "to come back. This cheetah reigns as the literal\n",
            "fastest land animal on the planet. Clocking speeds\n",
            "so intense, that humans need the speed of\n",
            "a Formula E race car to stand a chance. Which is exactly why I brought not\n",
            "just 1 but 3 cars to try and beat it. All starting with\n",
            "this golf cart vs. cheetah. Oh, look at that thing. Ready boys? - Let's do this.\n",
            "- Yup! 3, 2, 1… Send the cheetah! Oh my God,\n",
            "it's so fast! Oh, it's not even\n",
            "close. It's crushing us. We’re getting left\n",
            "in the dust! I can't even see it anymore,\n",
            "it's gone. The cheetah literally\n",
            "already finished, and we're still halfway\n",
            "through the race. This is embarrassing. Sir! Cheetah, you didn't even give us\n",
            "a fighting chance. We need something faster.\n",
            "Bring out the next car! We all knew a golf cart wasn't going\n",
            "to beat this cheetah. But for this next race,\n",
            "I spared no expense in acquiring one of the most\n",
            "beautiful cars in automotive history. Minivan vs. cheetah. Go! Oh, here we go. - Go, Jimmy! Drive!\n",
            "- Oh, what is this acceleration? - You gotta speed up faster!\n",
            "- What're you doing? I have literally gas\n",
            "all the way to the floor. It is gone! This thing does not\n",
            "accelerate. Why’d we choose\n",
            "a minivan? This is embarrassing. We already lost. What are we doing? Wait, cheetah! Cheetah! You're supposed to cross\n",
            "the finish line. The cheetah stopped conveniently\n",
            "right before. Oh, there it is. It's teasing us. I guess that's what can happen when\n",
            "you work with animals. - It felt sorry for us.\n",
            "- Yeah. But before this cheetah races\n",
            "a Formula E car, we need to prevent it\n",
            "from overheating. Which meant we somehow\n",
            "got to do this. I wanted to say hi\n",
            "to the cheetah. I'm good, thanks. - Millie— I touched the cheetah.\n",
            "- Oh my God, bro. For whatever reason, they actually let us hang out\n",
            "with this apex predator. I can't believe we're just\n",
            "next to this right now. Come here, Millie. I can't believe I'm literally calling\n",
            "a cheetah over to me. It is so big. Give it a pet, Nolan. Nolan, stop touching it.\n",
            "It did not like when you touched it. You guys are actually crazy. Oh my gosh, this cheetah's literally\n",
            "exactly like a giant cat. You’re so cute! We're giving the cheetah a little bit\n",
            "of a break in between the race, that way it's not too\n",
            "out of breath. And in case you guys\n",
            "are curious, we partnered with\n",
            "the American Humane Society, which is basically making sure\n",
            "that all the animals are being ethically treated\n",
            "while we're filming this video. That's because today there are less\n",
            "than 8,000 cheetahs living on earth, which is why it's important to me\n",
            "that all of these endangered animals are treated very carefully\n",
            "on our set. It's so soft! The cheetah is purring\n",
            "insanely loud. That means it\n",
            "likes us. It looks like Millie is ready for\n",
            "the next race. Let's get this on\n",
            "the road. It's finally time for the moment\n",
            "we've all been waiting for. What you're about to witness is the\n",
            "ultimate showdown of man vs. animal. This race is so monumental,\n",
            "in fact, that if anyone is going to ruin it,\n",
            "it might as well be Nolan. Let's answer the most important\n",
            "question in modern history… - Three!\n",
            "- Can a cheetah…. - Two!\n",
            "- …outrace a Formula E car? One! Let's find out. Go! That was so fast. The car just flew past\n",
            "the cheetah! Oh my God! Although Millie\n",
            "didn't win, it is crazy to me that\n",
            "a cheetah can hold its own against the same car used in\n",
            "the Formula E World Championship. But when the first car was made\n",
            "more than a century ago, over 100,000 cheetahs were\n",
            "alive in the wild. But today with less than\n",
            "8,000 remaining, it's our job to protect these extraordinary\n",
            "creatures from extinction, so that they can keep inspiring us\n",
            "all to push beyond our limits. Millie is like the sweetest animal\n",
            "I've ever met.\n"
          ]
        }
      ]
    },
    {
      "cell_type": "code",
      "source": [
        "splitter= RecursiveCharacterTextSplitter(chunk_size=1000,chunk_overlap=200)\n",
        "chunks=splitter.create_documents([transcipt])\n",
        "# chunks[500]\n",
        "print(f\"Number of chunks created: {len(chunks)}\")"
      ],
      "metadata": {
        "colab": {
          "base_uri": "https://localhost:8080/"
        },
        "id": "PXNpTHJsZqkq",
        "outputId": "bfce7833-6a5d-4c87-a006-2cae2a58e180"
      },
      "execution_count": 68,
      "outputs": [
        {
          "output_type": "stream",
          "name": "stdout",
          "text": [
            "Number of chunks created: 26\n"
          ]
        }
      ]
    },
    {
      "cell_type": "code",
      "source": [
        "embedding= GoogleGenerativeAIEmbeddings(model='models/embedding-001')\n",
        "vector_store=FAISS.from_documents(chunks,embedding)\n",
        "vector_store.index_to_docstore_id"
      ],
      "metadata": {
        "colab": {
          "base_uri": "https://localhost:8080/"
        },
        "id": "LUfsWva6a5MK",
        "outputId": "ffe275c7-c452-4885-97f9-ee3bd6529f0b"
      },
      "execution_count": 69,
      "outputs": [
        {
          "output_type": "execute_result",
          "data": {
            "text/plain": [
              "{0: 'd38e813e-027c-424e-a271-aa1184325cc7',\n",
              " 1: '9794e30f-5e41-4916-96c4-e04c5fbb4465',\n",
              " 2: '6a3eb4f0-3af2-406f-8b6a-7652b84c9cc2',\n",
              " 3: '83265d15-0064-4ba3-9630-929579a3ab94',\n",
              " 4: '12a29803-e6d9-4e70-918a-cfb737db5c66',\n",
              " 5: '65a4dfa3-fe26-44bf-95c8-53afa7f6631d',\n",
              " 6: 'ab0ffb5f-02d8-41e4-af8a-8c0dd35d07e9',\n",
              " 7: 'b3a77f86-2f4e-47a1-9465-b1691db85871',\n",
              " 8: '2683ccc0-33df-468d-a4ae-5a8b38525596',\n",
              " 9: 'a7f017c9-0510-4a19-86f0-911d948d59b8',\n",
              " 10: '784af425-cd52-4994-9f7c-aa7fc3e84be7',\n",
              " 11: 'e2a84827-7455-42a9-8929-81d12d8cb4ba',\n",
              " 12: '06d0d24a-65fc-4378-a64a-c24562ef8697',\n",
              " 13: '59f96873-ea85-4547-9438-59e5644f6ce0',\n",
              " 14: 'a10ff440-35fc-4918-aab2-3de16c6cfda3',\n",
              " 15: 'b96ec069-9e1c-40d7-b41a-2ac21edd226d',\n",
              " 16: '1851bdb0-5faf-49bf-9417-19857b40f71d',\n",
              " 17: '8b858516-1bcc-4d3b-a0bd-c57c13d1f0d0',\n",
              " 18: '0dfb3b35-24a1-4351-b34c-32e0b4b3c23d',\n",
              " 19: '44192e82-cf02-4950-b72b-a83d5cac7165',\n",
              " 20: 'a3056fd6-ffca-4af0-800b-21e90a21994f',\n",
              " 21: '1843f29a-6b0c-4cae-ae69-d6dcc0ad8007',\n",
              " 22: '17589245-952d-4e74-a8d4-503f40d8efef',\n",
              " 23: '65ea6882-583b-427e-b4ad-f4ca1c6df4b8',\n",
              " 24: '295520b1-2c89-4b66-9430-e62f12b88792',\n",
              " 25: '42f66ec7-fa00-465c-ab72-d0c61312d087'}"
            ]
          },
          "metadata": {},
          "execution_count": 69
        }
      ]
    },
    {
      "cell_type": "code",
      "source": [
        "pip install faiss-cpu"
      ],
      "metadata": {
        "colab": {
          "base_uri": "https://localhost:8080/"
        },
        "id": "5FYo6raXbhMI",
        "outputId": "7c35e0ca-eb2b-4ec1-e475-badb3bdf0e00"
      },
      "execution_count": 52,
      "outputs": [
        {
          "output_type": "stream",
          "name": "stdout",
          "text": [
            "Requirement already satisfied: faiss-cpu in /usr/local/lib/python3.11/dist-packages (1.11.0)\n",
            "Requirement already satisfied: numpy<3.0,>=1.25.0 in /usr/local/lib/python3.11/dist-packages (from faiss-cpu) (2.0.2)\n",
            "Requirement already satisfied: packaging in /usr/local/lib/python3.11/dist-packages (from faiss-cpu) (24.2)\n"
          ]
        }
      ]
    },
    {
      "cell_type": "code",
      "source": [
        "retriever =vector_store.as_retriever(search_type=\"similarity\",search_kwargs={\"k\":4})\n"
      ],
      "metadata": {
        "id": "YcWoK3nfbhIv"
      },
      "execution_count": 70,
      "outputs": []
    },
    {
      "cell_type": "code",
      "source": [
        "retriever.invoke(\"Does the cheetah overcome the car?\")"
      ],
      "metadata": {
        "colab": {
          "base_uri": "https://localhost:8080/"
        },
        "id": "WxPVqFT3dbjw",
        "outputId": "aad60617-4c7f-41c6-8f0f-b682e5587b14"
      },
      "execution_count": 73,
      "outputs": [
        {
          "output_type": "execute_result",
          "data": {
            "text/plain": [
              "[Document(id='1843f29a-6b0c-4cae-ae69-d6dcc0ad8007', metadata={}, page_content=\"so intense, that humans need the speed of\\na Formula E race car to stand a chance. Which is exactly why I brought not\\njust 1 but 3 cars to try and beat it. All starting with\\nthis golf cart vs. cheetah. Oh, look at that thing. Ready boys? - Let's do this.\\n- Yup! 3, 2, 1… Send the cheetah! Oh my God,\\nit's so fast! Oh, it's not even\\nclose. It's crushing us. We’re getting left\\nin the dust! I can't even see it anymore,\\nit's gone. The cheetah literally\\nalready finished, and we're still halfway\\nthrough the race. This is embarrassing. Sir! Cheetah, you didn't even give us\\na fighting chance. We need something faster.\\nBring out the next car! We all knew a golf cart wasn't going\\nto beat this cheetah. But for this next race,\\nI spared no expense in acquiring one of the most\\nbeautiful cars in automotive history. Minivan vs. cheetah. Go! Oh, here we go. - Go, Jimmy! Drive!\\n- Oh, what is this acceleration? - You gotta speed up faster!\\n- What're you doing? I have literally gas\"),\n",
              " Document(id='17589245-952d-4e74-a8d4-503f40d8efef', metadata={}, page_content=\"- Oh, what is this acceleration? - You gotta speed up faster!\\n- What're you doing? I have literally gas\\nall the way to the floor. It is gone! This thing does not\\naccelerate. Why’d we choose\\na minivan? This is embarrassing. We already lost. What are we doing? Wait, cheetah! Cheetah! You're supposed to cross\\nthe finish line. The cheetah stopped conveniently\\nright before. Oh, there it is. It's teasing us. I guess that's what can happen when\\nyou work with animals. - It felt sorry for us.\\n- Yeah. But before this cheetah races\\na Formula E car, we need to prevent it\\nfrom overheating. Which meant we somehow\\ngot to do this. I wanted to say hi\\nto the cheetah. I'm good, thanks. - Millie— I touched the cheetah.\\n- Oh my God, bro. For whatever reason, they actually let us hang out\\nwith this apex predator. I can't believe we're just\\nnext to this right now. Come here, Millie. I can't believe I'm literally calling\\na cheetah over to me. It is so big. Give it a pet, Nolan. Nolan, stop touching it.\"),\n",
              " Document(id='295520b1-2c89-4b66-9430-e62f12b88792', metadata={}, page_content=\"on our set. It's so soft! The cheetah is purring\\ninsanely loud. That means it\\nlikes us. It looks like Millie is ready for\\nthe next race. Let's get this on\\nthe road. It's finally time for the moment\\nwe've all been waiting for. What you're about to witness is the\\nultimate showdown of man vs. animal. This race is so monumental,\\nin fact, that if anyone is going to ruin it,\\nit might as well be Nolan. Let's answer the most important\\nquestion in modern history… - Three!\\n- Can a cheetah…. - Two!\\n- …outrace a Formula E car? One! Let's find out. Go! That was so fast. The car just flew past\\nthe cheetah! Oh my God! Although Millie\\ndidn't win, it is crazy to me that\\na cheetah can hold its own against the same car used in\\nthe Formula E World Championship. But when the first car was made\\nmore than a century ago, over 100,000 cheetahs were\\nalive in the wild. But today with less than\\n8,000 remaining, it's our job to protect these extraordinary\"),\n",
              " Document(id='a3056fd6-ffca-4af0-800b-21e90a21994f', metadata={}, page_content=\"we ended the challenge… Alright, they’re really close\\nright now. Is he in there? Is there anybody\\nin this truck? - Someone’s in the back!\\n- We got somebody! Got me. You might be\\na little hungry. I actually got you a Feastables\\nPeanut Butter Cup. Let me know what you think. Oh yeah. That's a 10\\nright there. Come on. And with the time\\nfinally up, the 2 winners emerged from\\ntheir hiding spots. It's a good one. Oh, that was\\na long night. Congrats to them on\\nsplitting $50,000. And now, the moment you've\\nall been waiting for. After the most insane\\nman vs. animal competitions, it all comes down to\\nthis final challenge. This cheetah is gonna race\\nthe fastest car on earth. Let's see who wins—\\nOh, cheetah! Alright, I'll get it\\nto come back. This cheetah reigns as the literal\\nfastest land animal on the planet. Clocking speeds\\nso intense, that humans need the speed of\\na Formula E race car to stand a chance. Which is exactly why I brought not\\njust 1 but 3 cars to try and beat it. All starting with\")]"
            ]
          },
          "metadata": {},
          "execution_count": 73
        }
      ]
    },
    {
      "cell_type": "code",
      "source": [
        "llm=ChatGoogleGenerativeAI(model=\"gemini-1.5-flash\")\n",
        "prompt= PromptTemplate(\n",
        "    template=\"\"\"\n",
        "            You are a helpful AI assistant ,\n",
        "            answer only from the provideded transcript ,\n",
        "            if the context is insufficient , just say you dont know\n",
        "            {context}\n",
        "            Question: {question}\n",
        "            \"\"\",\n",
        "    input_variables=[\"context\",\"question\"]\n",
        ")\n"
      ],
      "metadata": {
        "id": "rM2WhwNYdxOh"
      },
      "execution_count": 74,
      "outputs": []
    },
    {
      "cell_type": "code",
      "source": [
        "question=\"Give few facts about the cheetah as mentioned ?\"\n",
        "context= retriever.invoke(question)\n",
        "print(context)"
      ],
      "metadata": {
        "colab": {
          "base_uri": "https://localhost:8080/"
        },
        "id": "Eq5h3fc_fJy7",
        "outputId": "b3277ebc-58e8-4a04-f045-c9a7b55e6d45"
      },
      "execution_count": 75,
      "outputs": [
        {
          "output_type": "stream",
          "name": "stdout",
          "text": [
            "[Document(id='42f66ec7-fa00-465c-ab72-d0c61312d087', metadata={}, page_content=\"more than a century ago, over 100,000 cheetahs were\\nalive in the wild. But today with less than\\n8,000 remaining, it's our job to protect these extraordinary\\ncreatures from extinction, so that they can keep inspiring us\\nall to push beyond our limits. Millie is like the sweetest animal\\nI've ever met.\"), Document(id='295520b1-2c89-4b66-9430-e62f12b88792', metadata={}, page_content=\"on our set. It's so soft! The cheetah is purring\\ninsanely loud. That means it\\nlikes us. It looks like Millie is ready for\\nthe next race. Let's get this on\\nthe road. It's finally time for the moment\\nwe've all been waiting for. What you're about to witness is the\\nultimate showdown of man vs. animal. This race is so monumental,\\nin fact, that if anyone is going to ruin it,\\nit might as well be Nolan. Let's answer the most important\\nquestion in modern history… - Three!\\n- Can a cheetah…. - Two!\\n- …outrace a Formula E car? One! Let's find out. Go! That was so fast. The car just flew past\\nthe cheetah! Oh my God! Although Millie\\ndidn't win, it is crazy to me that\\na cheetah can hold its own against the same car used in\\nthe Formula E World Championship. But when the first car was made\\nmore than a century ago, over 100,000 cheetahs were\\nalive in the wild. But today with less than\\n8,000 remaining, it's our job to protect these extraordinary\"), Document(id='65ea6882-583b-427e-b4ad-f4ca1c6df4b8', metadata={}, page_content=\"next to this right now. Come here, Millie. I can't believe I'm literally calling\\na cheetah over to me. It is so big. Give it a pet, Nolan. Nolan, stop touching it.\\nIt did not like when you touched it. You guys are actually crazy. Oh my gosh, this cheetah's literally\\nexactly like a giant cat. You’re so cute! We're giving the cheetah a little bit\\nof a break in between the race, that way it's not too\\nout of breath. And in case you guys\\nare curious, we partnered with\\nthe American Humane Society, which is basically making sure\\nthat all the animals are being ethically treated\\nwhile we're filming this video. That's because today there are less\\nthan 8,000 cheetahs living on earth, which is why it's important to me\\nthat all of these endangered animals are treated very carefully\\non our set. It's so soft! The cheetah is purring\\ninsanely loud. That means it\\nlikes us. It looks like Millie is ready for\\nthe next race. Let's get this on\\nthe road. It's finally time for the moment\"), Document(id='17589245-952d-4e74-a8d4-503f40d8efef', metadata={}, page_content=\"- Oh, what is this acceleration? - You gotta speed up faster!\\n- What're you doing? I have literally gas\\nall the way to the floor. It is gone! This thing does not\\naccelerate. Why’d we choose\\na minivan? This is embarrassing. We already lost. What are we doing? Wait, cheetah! Cheetah! You're supposed to cross\\nthe finish line. The cheetah stopped conveniently\\nright before. Oh, there it is. It's teasing us. I guess that's what can happen when\\nyou work with animals. - It felt sorry for us.\\n- Yeah. But before this cheetah races\\na Formula E car, we need to prevent it\\nfrom overheating. Which meant we somehow\\ngot to do this. I wanted to say hi\\nto the cheetah. I'm good, thanks. - Millie— I touched the cheetah.\\n- Oh my God, bro. For whatever reason, they actually let us hang out\\nwith this apex predator. I can't believe we're just\\nnext to this right now. Come here, Millie. I can't believe I'm literally calling\\na cheetah over to me. It is so big. Give it a pet, Nolan. Nolan, stop touching it.\")]\n"
          ]
        }
      ]
    },
    {
      "cell_type": "code",
      "source": [
        "context_text= \"\\n\\n\".join(doc.page_content for doc in context)\n",
        "print(context_text)"
      ],
      "metadata": {
        "colab": {
          "base_uri": "https://localhost:8080/"
        },
        "id": "rYq-bv_ogWvW",
        "outputId": "2f48ea2f-8b70-4717-89f0-928d2581ef4f"
      },
      "execution_count": 76,
      "outputs": [
        {
          "output_type": "stream",
          "name": "stdout",
          "text": [
            "more than a century ago, over 100,000 cheetahs were\n",
            "alive in the wild. But today with less than\n",
            "8,000 remaining, it's our job to protect these extraordinary\n",
            "creatures from extinction, so that they can keep inspiring us\n",
            "all to push beyond our limits. Millie is like the sweetest animal\n",
            "I've ever met.\n",
            "\n",
            "on our set. It's so soft! The cheetah is purring\n",
            "insanely loud. That means it\n",
            "likes us. It looks like Millie is ready for\n",
            "the next race. Let's get this on\n",
            "the road. It's finally time for the moment\n",
            "we've all been waiting for. What you're about to witness is the\n",
            "ultimate showdown of man vs. animal. This race is so monumental,\n",
            "in fact, that if anyone is going to ruin it,\n",
            "it might as well be Nolan. Let's answer the most important\n",
            "question in modern history… - Three!\n",
            "- Can a cheetah…. - Two!\n",
            "- …outrace a Formula E car? One! Let's find out. Go! That was so fast. The car just flew past\n",
            "the cheetah! Oh my God! Although Millie\n",
            "didn't win, it is crazy to me that\n",
            "a cheetah can hold its own against the same car used in\n",
            "the Formula E World Championship. But when the first car was made\n",
            "more than a century ago, over 100,000 cheetahs were\n",
            "alive in the wild. But today with less than\n",
            "8,000 remaining, it's our job to protect these extraordinary\n",
            "\n",
            "next to this right now. Come here, Millie. I can't believe I'm literally calling\n",
            "a cheetah over to me. It is so big. Give it a pet, Nolan. Nolan, stop touching it.\n",
            "It did not like when you touched it. You guys are actually crazy. Oh my gosh, this cheetah's literally\n",
            "exactly like a giant cat. You’re so cute! We're giving the cheetah a little bit\n",
            "of a break in between the race, that way it's not too\n",
            "out of breath. And in case you guys\n",
            "are curious, we partnered with\n",
            "the American Humane Society, which is basically making sure\n",
            "that all the animals are being ethically treated\n",
            "while we're filming this video. That's because today there are less\n",
            "than 8,000 cheetahs living on earth, which is why it's important to me\n",
            "that all of these endangered animals are treated very carefully\n",
            "on our set. It's so soft! The cheetah is purring\n",
            "insanely loud. That means it\n",
            "likes us. It looks like Millie is ready for\n",
            "the next race. Let's get this on\n",
            "the road. It's finally time for the moment\n",
            "\n",
            "- Oh, what is this acceleration? - You gotta speed up faster!\n",
            "- What're you doing? I have literally gas\n",
            "all the way to the floor. It is gone! This thing does not\n",
            "accelerate. Why’d we choose\n",
            "a minivan? This is embarrassing. We already lost. What are we doing? Wait, cheetah! Cheetah! You're supposed to cross\n",
            "the finish line. The cheetah stopped conveniently\n",
            "right before. Oh, there it is. It's teasing us. I guess that's what can happen when\n",
            "you work with animals. - It felt sorry for us.\n",
            "- Yeah. But before this cheetah races\n",
            "a Formula E car, we need to prevent it\n",
            "from overheating. Which meant we somehow\n",
            "got to do this. I wanted to say hi\n",
            "to the cheetah. I'm good, thanks. - Millie— I touched the cheetah.\n",
            "- Oh my God, bro. For whatever reason, they actually let us hang out\n",
            "with this apex predator. I can't believe we're just\n",
            "next to this right now. Come here, Millie. I can't believe I'm literally calling\n",
            "a cheetah over to me. It is so big. Give it a pet, Nolan. Nolan, stop touching it.\n"
          ]
        }
      ]
    },
    {
      "cell_type": "code",
      "source": [
        "final_prompt= prompt.invoke({\"context\":context_text,\"question\":question})\n",
        "print(final_prompt)"
      ],
      "metadata": {
        "colab": {
          "base_uri": "https://localhost:8080/"
        },
        "id": "9PLLdqiShFlP",
        "outputId": "00f4ce33-7016-40b2-d9e4-42e2f1e538f8"
      },
      "execution_count": 77,
      "outputs": [
        {
          "output_type": "stream",
          "name": "stdout",
          "text": [
            "text=\"\\n            You are a helpful AI assistant ,\\n            answer only from the provideded transcript ,\\n            if the context is insufficient , just say you dont know\\n            more than a century ago, over 100,000 cheetahs were\\nalive in the wild. But today with less than\\n8,000 remaining, it's our job to protect these extraordinary\\ncreatures from extinction, so that they can keep inspiring us\\nall to push beyond our limits. Millie is like the sweetest animal\\nI've ever met.\\n\\non our set. It's so soft! The cheetah is purring\\ninsanely loud. That means it\\nlikes us. It looks like Millie is ready for\\nthe next race. Let's get this on\\nthe road. It's finally time for the moment\\nwe've all been waiting for. What you're about to witness is the\\nultimate showdown of man vs. animal. This race is so monumental,\\nin fact, that if anyone is going to ruin it,\\nit might as well be Nolan. Let's answer the most important\\nquestion in modern history… - Three!\\n- Can a cheetah…. - Two!\\n- …outrace a Formula E car? One! Let's find out. Go! That was so fast. The car just flew past\\nthe cheetah! Oh my God! Although Millie\\ndidn't win, it is crazy to me that\\na cheetah can hold its own against the same car used in\\nthe Formula E World Championship. But when the first car was made\\nmore than a century ago, over 100,000 cheetahs were\\nalive in the wild. But today with less than\\n8,000 remaining, it's our job to protect these extraordinary\\n\\nnext to this right now. Come here, Millie. I can't believe I'm literally calling\\na cheetah over to me. It is so big. Give it a pet, Nolan. Nolan, stop touching it.\\nIt did not like when you touched it. You guys are actually crazy. Oh my gosh, this cheetah's literally\\nexactly like a giant cat. You’re so cute! We're giving the cheetah a little bit\\nof a break in between the race, that way it's not too\\nout of breath. And in case you guys\\nare curious, we partnered with\\nthe American Humane Society, which is basically making sure\\nthat all the animals are being ethically treated\\nwhile we're filming this video. That's because today there are less\\nthan 8,000 cheetahs living on earth, which is why it's important to me\\nthat all of these endangered animals are treated very carefully\\non our set. It's so soft! The cheetah is purring\\ninsanely loud. That means it\\nlikes us. It looks like Millie is ready for\\nthe next race. Let's get this on\\nthe road. It's finally time for the moment\\n\\n- Oh, what is this acceleration? - You gotta speed up faster!\\n- What're you doing? I have literally gas\\nall the way to the floor. It is gone! This thing does not\\naccelerate. Why’d we choose\\na minivan? This is embarrassing. We already lost. What are we doing? Wait, cheetah! Cheetah! You're supposed to cross\\nthe finish line. The cheetah stopped conveniently\\nright before. Oh, there it is. It's teasing us. I guess that's what can happen when\\nyou work with animals. - It felt sorry for us.\\n- Yeah. But before this cheetah races\\na Formula E car, we need to prevent it\\nfrom overheating. Which meant we somehow\\ngot to do this. I wanted to say hi\\nto the cheetah. I'm good, thanks. - Millie— I touched the cheetah.\\n- Oh my God, bro. For whatever reason, they actually let us hang out\\nwith this apex predator. I can't believe we're just\\nnext to this right now. Come here, Millie. I can't believe I'm literally calling\\na cheetah over to me. It is so big. Give it a pet, Nolan. Nolan, stop touching it.\\n            Question: Give few facts about the cheetah as mentioned ?\\n            \"\n"
          ]
        }
      ]
    },
    {
      "cell_type": "markdown",
      "source": [
        "GENERATION"
      ],
      "metadata": {
        "id": "acT5FGafieuG"
      }
    },
    {
      "cell_type": "code",
      "source": [
        "answer=llm.invoke(final_prompt)\n",
        "print(answer.content)"
      ],
      "metadata": {
        "colab": {
          "base_uri": "https://localhost:8080/"
        },
        "id": "ASyLKD7digRk",
        "outputId": "ff65c40d-1dc7-4706-8aba-03754b4758b8"
      },
      "execution_count": 78,
      "outputs": [
        {
          "output_type": "stream",
          "name": "stdout",
          "text": [
            "More than a century ago, over 100,000 cheetahs were alive in the wild.  Today, less than 8,000 remain.  A cheetah's purr is described as \"insanely loud,\" indicating it likes the people interacting with it.  Cheetahs are described as being like \"giant cats\" and very soft.\n"
          ]
        }
      ]
    },
    {
      "cell_type": "markdown",
      "source": [
        "CHAIN"
      ],
      "metadata": {
        "id": "dSLxzvqVlxHj"
      }
    },
    {
      "cell_type": "code",
      "source": [
        "from langchain_core.runnables import RunnablePassthrough,RunnableLambda,RunnableParallel\n",
        "from langchain_core.output_parsers import StrOutputParser"
      ],
      "metadata": {
        "id": "C7ThZoytlyJc"
      },
      "execution_count": 60,
      "outputs": []
    },
    {
      "cell_type": "code",
      "source": [
        "def format(context):\n",
        "  context_text= \"\\n\\n\".join(doc.page_content for doc in context)\n",
        "  return context_text"
      ],
      "metadata": {
        "id": "MHpRPZrqjV75"
      },
      "execution_count": 84,
      "outputs": []
    },
    {
      "cell_type": "code",
      "source": [
        "parallel_chain= RunnableParallel({\n",
        "    \"context\": retriever| RunnableLambda(format),\n",
        "    \"question\":RunnablePassthrough()\n",
        "})\n",
        "parallel_chain.invoke(\"What is the cheetah ?\")"
      ],
      "metadata": {
        "colab": {
          "base_uri": "https://localhost:8080/"
        },
        "id": "uDQfq4XWpz8H",
        "outputId": "030256e2-9acc-4955-d8c1-378de6acdf5d"
      },
      "execution_count": 85,
      "outputs": [
        {
          "output_type": "execute_result",
          "data": {
            "text/plain": [
              "{'context': \"more than a century ago, over 100,000 cheetahs were\\nalive in the wild. But today with less than\\n8,000 remaining, it's our job to protect these extraordinary\\ncreatures from extinction, so that they can keep inspiring us\\nall to push beyond our limits. Millie is like the sweetest animal\\nI've ever met.\\n\\non our set. It's so soft! The cheetah is purring\\ninsanely loud. That means it\\nlikes us. It looks like Millie is ready for\\nthe next race. Let's get this on\\nthe road. It's finally time for the moment\\nwe've all been waiting for. What you're about to witness is the\\nultimate showdown of man vs. animal. This race is so monumental,\\nin fact, that if anyone is going to ruin it,\\nit might as well be Nolan. Let's answer the most important\\nquestion in modern history… - Three!\\n- Can a cheetah…. - Two!\\n- …outrace a Formula E car? One! Let's find out. Go! That was so fast. The car just flew past\\nthe cheetah! Oh my God! Although Millie\\ndidn't win, it is crazy to me that\\na cheetah can hold its own against the same car used in\\nthe Formula E World Championship. But when the first car was made\\nmore than a century ago, over 100,000 cheetahs were\\nalive in the wild. But today with less than\\n8,000 remaining, it's our job to protect these extraordinary\\n\\nnext to this right now. Come here, Millie. I can't believe I'm literally calling\\na cheetah over to me. It is so big. Give it a pet, Nolan. Nolan, stop touching it.\\nIt did not like when you touched it. You guys are actually crazy. Oh my gosh, this cheetah's literally\\nexactly like a giant cat. You’re so cute! We're giving the cheetah a little bit\\nof a break in between the race, that way it's not too\\nout of breath. And in case you guys\\nare curious, we partnered with\\nthe American Humane Society, which is basically making sure\\nthat all the animals are being ethically treated\\nwhile we're filming this video. That's because today there are less\\nthan 8,000 cheetahs living on earth, which is why it's important to me\\nthat all of these endangered animals are treated very carefully\\non our set. It's so soft! The cheetah is purring\\ninsanely loud. That means it\\nlikes us. It looks like Millie is ready for\\nthe next race. Let's get this on\\nthe road. It's finally time for the moment\\n\\nso intense, that humans need the speed of\\na Formula E race car to stand a chance. Which is exactly why I brought not\\njust 1 but 3 cars to try and beat it. All starting with\\nthis golf cart vs. cheetah. Oh, look at that thing. Ready boys? - Let's do this.\\n- Yup! 3, 2, 1… Send the cheetah! Oh my God,\\nit's so fast! Oh, it's not even\\nclose. It's crushing us. We’re getting left\\nin the dust! I can't even see it anymore,\\nit's gone. The cheetah literally\\nalready finished, and we're still halfway\\nthrough the race. This is embarrassing. Sir! Cheetah, you didn't even give us\\na fighting chance. We need something faster.\\nBring out the next car! We all knew a golf cart wasn't going\\nto beat this cheetah. But for this next race,\\nI spared no expense in acquiring one of the most\\nbeautiful cars in automotive history. Minivan vs. cheetah. Go! Oh, here we go. - Go, Jimmy! Drive!\\n- Oh, what is this acceleration? - You gotta speed up faster!\\n- What're you doing? I have literally gas\",\n",
              " 'question': 'What is the cheetah ?'}"
            ]
          },
          "metadata": {},
          "execution_count": 85
        }
      ]
    },
    {
      "cell_type": "code",
      "source": [
        "parser=StrOutputParser()\n"
      ],
      "metadata": {
        "id": "fRS0wZtNyaON"
      },
      "execution_count": 87,
      "outputs": []
    },
    {
      "cell_type": "code",
      "source": [
        "main_chain= parallel_chain| prompt|llm|parser"
      ],
      "metadata": {
        "id": "JiLYMq1-ygBc"
      },
      "execution_count": 88,
      "outputs": []
    },
    {
      "cell_type": "code",
      "source": [
        "main_chain.invoke(\"summarize the video \")\n"
      ],
      "metadata": {
        "colab": {
          "base_uri": "https://localhost:8080/",
          "height": 122
        },
        "id": "avr0JaYiypQ_",
        "outputId": "38027426-63b7-4a9d-f7f7-67555135e3f4"
      },
      "execution_count": 89,
      "outputs": [
        {
          "output_type": "execute_result",
          "data": {
            "text/plain": [
              "'The provided text describes several unrelated events.  One segment depicts a tense physical challenge (\"the circle\") where a participant, Nick, struggles against an opponent, narrowly avoiding defeat. Another describes people evading dogs, using various strategies like masking their scent and seeking cover. A third segment shows elephants participating in a painting competition.  There is no single overarching summary for the entire text.'"
            ],
            "application/vnd.google.colaboratory.intrinsic+json": {
              "type": "string"
            }
          },
          "metadata": {},
          "execution_count": 89
        }
      ]
    }
  ]
}